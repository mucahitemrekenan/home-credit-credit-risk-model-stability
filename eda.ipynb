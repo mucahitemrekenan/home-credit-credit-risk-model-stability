{
 "cells": [
  {
   "cell_type": "code",
   "outputs": [],
   "source": [
    "import numpy as np\n",
    "import pandas as pd\n",
    "import matplotlib.pyplot as plt\n",
    "import os"
   ],
   "metadata": {
    "collapsed": false,
    "ExecuteTime": {
     "end_time": "2024-02-28T12:13:12.343668Z",
     "start_time": "2024-02-28T12:13:12.340730Z"
    }
   },
   "id": "511a2357073fe754",
   "execution_count": 1
  },
  {
   "cell_type": "code",
   "outputs": [],
   "source": [
    "feature_def = pd.read_csv('feature_definitions.csv')"
   ],
   "metadata": {
    "collapsed": false,
    "ExecuteTime": {
     "end_time": "2024-02-28T12:13:12.361813Z",
     "start_time": "2024-02-28T12:13:12.344672Z"
    }
   },
   "id": "e9e2b5b640a58970",
   "execution_count": 2
  },
  {
   "cell_type": "code",
   "outputs": [],
   "source": [
    "def get_feature_definitions(data):\n",
    "    return feature_def[feature_def['Variable'].isin(data.columns)]"
   ],
   "metadata": {
    "collapsed": false,
    "ExecuteTime": {
     "end_time": "2024-02-28T12:13:12.366497Z",
     "start_time": "2024-02-28T12:13:12.362817Z"
    }
   },
   "id": "e57b20d828509a1e",
   "execution_count": 3
  },
  {
   "cell_type": "code",
   "outputs": [],
   "source": [
    "base_data = pd.read_csv('csv_files/train/train_base.csv')\n",
    "base_defs = get_feature_definitions(base_data)"
   ],
   "metadata": {
    "collapsed": false,
    "ExecuteTime": {
     "end_time": "2024-02-28T12:13:12.803698Z",
     "start_time": "2024-02-28T12:13:12.368501Z"
    }
   },
   "id": "1610069868b26145",
   "execution_count": 4
  },
  {
   "cell_type": "code",
   "outputs": [
    {
     "data": {
      "text/plain": "case_id          1526659\ndate_decision        644\nMONTH                 22\nWEEK_NUM              92\ntarget                 2\ndtype: int64"
     },
     "execution_count": 5,
     "metadata": {},
     "output_type": "execute_result"
    }
   ],
   "source": [
    "base_data.nunique()"
   ],
   "metadata": {
    "collapsed": false,
    "ExecuteTime": {
     "end_time": "2024-02-16T08:23:46.721492600Z",
     "start_time": "2024-02-16T08:23:46.605717200Z"
    }
   },
   "id": "8b8a55e342710426",
   "execution_count": 5
  },
  {
   "cell_type": "code",
   "outputs": [
    {
     "data": {
      "text/plain": "case_id           int64\ndate_decision    object\nMONTH             int64\nWEEK_NUM          int64\ntarget            int64\ndtype: object"
     },
     "execution_count": 6,
     "metadata": {},
     "output_type": "execute_result"
    }
   ],
   "source": [
    "base_data.dtypes"
   ],
   "metadata": {
    "collapsed": false,
    "ExecuteTime": {
     "end_time": "2024-02-16T08:23:52.559890400Z",
     "start_time": "2024-02-16T08:23:52.549856Z"
    }
   },
   "id": "db6df0ff167a72b7",
   "execution_count": 6
  },
  {
   "cell_type": "code",
   "outputs": [
    {
     "data": {
      "text/plain": "array([201901, 201902, 201903, 201904, 201905, 201906, 201907, 201908,\n       201909, 201910, 201911, 201912, 202001, 202002, 202003, 202004,\n       202005, 202006, 202007, 202008, 202009, 202010], dtype=int64)"
     },
     "execution_count": 7,
     "metadata": {},
     "output_type": "execute_result"
    }
   ],
   "source": [
    "base_data['MONTH'].unique()"
   ],
   "metadata": {
    "collapsed": false,
    "ExecuteTime": {
     "end_time": "2024-02-16T08:24:02.268512400Z",
     "start_time": "2024-02-16T08:24:02.238930400Z"
    }
   },
   "id": "61225d812ce393a3",
   "execution_count": 7
  },
  {
   "cell_type": "code",
   "outputs": [
    {
     "data": {
      "text/plain": "0    1478665\n1      47994\nName: target, dtype: int64"
     },
     "execution_count": 8,
     "metadata": {},
     "output_type": "execute_result"
    }
   ],
   "source": [
    "base_data['target'].value_counts()"
   ],
   "metadata": {
    "collapsed": false,
    "ExecuteTime": {
     "end_time": "2024-02-16T08:24:09.400891200Z",
     "start_time": "2024-02-16T08:24:09.374791800Z"
    }
   },
   "id": "91599b35cd75886",
   "execution_count": 8
  },
  {
   "cell_type": "code",
   "outputs": [],
   "source": [
    "base_data['month'] = base_data['MONTH'].apply(lambda x: x % 100)"
   ],
   "metadata": {
    "collapsed": false,
    "ExecuteTime": {
     "end_time": "2024-02-16T08:24:15.548491600Z",
     "start_time": "2024-02-16T08:24:15.274243900Z"
    }
   },
   "id": "59aab952526e40ea",
   "execution_count": 9
  },
  {
   "cell_type": "code",
   "outputs": [
    {
     "data": {
      "text/plain": "<Axes: >"
     },
     "execution_count": 10,
     "metadata": {},
     "output_type": "execute_result"
    },
    {
     "data": {
      "text/plain": "<Figure size 640x480 with 1 Axes>",
      "image/png": "[encoded data removed]"
     },
     "metadata": {},
     "output_type": "display_data"
    }
   ],
   "source": [
    "base_data['month'].plot()"
   ],
   "metadata": {
    "collapsed": false,
    "ExecuteTime": {
     "end_time": "2024-02-16T08:24:34.967586500Z",
     "start_time": "2024-02-16T08:24:34.702571800Z"
    }
   },
   "id": "e4ece58f077c3855",
   "execution_count": 10
  },
  {
   "cell_type": "code",
   "outputs": [],
   "source": [
    "del base_data"
   ],
   "metadata": {
    "collapsed": false,
    "ExecuteTime": {
     "end_time": "2024-02-16T09:27:34.286818900Z",
     "start_time": "2024-02-16T09:27:34.276809800Z"
    }
   },
   "id": "bdf646aefaafc4d4",
   "execution_count": 37
  },
  {
   "cell_type": "code",
   "outputs": [],
   "source": [
    "person_data = pd.read_csv('csv_files/train/train_person_1.csv', low_memory=False)\n",
    "definitions = get_feature_definitions(person_data)"
   ],
   "metadata": {
    "collapsed": false,
    "ExecuteTime": {
     "end_time": "2024-02-16T08:24:50.032637700Z",
     "start_time": "2024-02-16T08:24:43.222843100Z"
    }
   },
   "id": "c4fadf9966c2696e",
   "execution_count": 11
  },
  {
   "cell_type": "code",
   "outputs": [
    {
     "data": {
      "text/plain": "0.0     0.609973\n1.0     0.239326\n2.0     0.103058\n3.0     0.031594\n4.0     0.008883\n5.0     0.004340\n6.0     0.002019\n7.0     0.000505\n11.0    0.000101\n8.0     0.000101\n10.0    0.000101\nName: childnum_185L, dtype: float64"
     },
     "execution_count": 21,
     "metadata": {},
     "output_type": "execute_result"
    }
   ],
   "source": [
    "person_data['childnum_185L'].value_counts(normalize=True)"
   ],
   "metadata": {
    "collapsed": false,
    "ExecuteTime": {
     "end_time": "2024-02-16T08:28:55.697745700Z",
     "start_time": "2024-02-16T08:28:55.676699600Z"
    }
   },
   "id": "9a6c590e8d6f1269",
   "execution_count": 21
  },
  {
   "cell_type": "code",
   "outputs": [
    {
     "data": {
      "text/plain": "0.9966687861530179"
     },
     "execution_count": 24,
     "metadata": {},
     "output_type": "execute_result"
    }
   ],
   "source": [
    "# null ratio in this column\n",
    "person_data['childnum_185L'].isnull().sum() / len(person_data)"
   ],
   "metadata": {
    "collapsed": false,
    "ExecuteTime": {
     "end_time": "2024-02-16T08:29:23.091584400Z",
     "start_time": "2024-02-16T08:29:23.075547300Z"
    }
   },
   "id": "e5cda6832f304e80",
   "execution_count": 24
  },
  {
   "cell_type": "code",
   "outputs": [
    {
     "data": {
      "text/plain": "MORE_FIVE    371321\nMORE_ONE     126527\nLESS_ONE      30467\nName: empl_employedtotal_800L, dtype: int64"
     },
     "execution_count": 25,
     "metadata": {},
     "output_type": "execute_result"
    }
   ],
   "source": [
    "person_data['empl_employedtotal_800L'].value_counts()"
   ],
   "metadata": {
    "collapsed": false,
    "ExecuteTime": {
     "end_time": "2024-02-16T08:52:18.571881100Z",
     "start_time": "2024-02-16T08:52:18.512180600Z"
    }
   },
   "id": "7250222212f65c70",
   "execution_count": 25
  },
  {
   "cell_type": "code",
   "outputs": [
    {
     "data": {
      "text/plain": "OTHER                386837\nGOVERNMENT            35440\nEDUCATION             30346\nTRADE                 20696\nHEALTH                13026\nMANUFACTURING          9035\nAGRICULTURE            5288\nTRANSPORTATION         4318\nREAL_ESTATE            3680\nMINING                 3582\nCATERING               3508\nFINANCE                3150\nPOST_TELCO              612\nLAWYER                  564\nTOURISM                 513\nWELNESS                 441\nIT                      279\nART_MEDIA               245\nMARKETING               239\nINSURANCE               217\nGAMING                   96\nRECRUITMENT              85\nCHARITY_RELIGIOUS        25\nARMY_POLICE              14\nName: empl_industry_691L, dtype: int64"
     },
     "execution_count": 26,
     "metadata": {},
     "output_type": "execute_result"
    }
   ],
   "source": [
    "person_data['empl_industry_691L'].value_counts()"
   ],
   "metadata": {
    "collapsed": false,
    "ExecuteTime": {
     "end_time": "2024-02-16T08:53:05.010757100Z",
     "start_time": "2024-02-16T08:53:04.958809Z"
    }
   },
   "id": "a7eedd8d44250cd7",
   "execution_count": 26
  },
  {
   "cell_type": "code",
   "outputs": [
    {
     "data": {
      "text/plain": "F    20981\nM     3935\nName: gender_992L, dtype: int64"
     },
     "execution_count": 28,
     "metadata": {},
     "output_type": "execute_result"
    }
   ],
   "source": [
    "person_data['gender_992L'].value_counts()"
   ],
   "metadata": {
    "collapsed": false,
    "ExecuteTime": {
     "end_time": "2024-02-16T08:54:54.002213800Z",
     "start_time": "2024-02-16T08:54:53.951804Z"
    }
   },
   "id": "67d5258c101dda9d",
   "execution_count": 28
  },
  {
   "cell_type": "code",
   "outputs": [
    {
     "data": {
      "text/plain": "OWNED           94076\nPARENTAL         4212\nFLAT             1501\nCOMPANY_FLAT      641\nCOOP_FLAT         222\nSTATE_FLAT        166\nName: housetype_905L, dtype: int64"
     },
     "execution_count": 29,
     "metadata": {},
     "output_type": "execute_result"
    }
   ],
   "source": [
    "person_data['housetype_905L'].value_counts()"
   ],
   "metadata": {
    "collapsed": false,
    "ExecuteTime": {
     "end_time": "2024-02-16T08:55:34.158698700Z",
     "start_time": "2024-02-16T08:55:34.110691600Z"
    }
   },
   "id": "b97a4259c2a2ac2a",
   "execution_count": 29
  },
  {
   "cell_type": "code",
   "outputs": [],
   "source": [
    "person_data2 = pd.read_csv('csv_files/train/train_person_2.csv', low_memory=False)\n",
    "definitions = get_feature_definitions(person_data2)"
   ],
   "metadata": {
    "collapsed": false,
    "ExecuteTime": {
     "end_time": "2024-02-16T09:06:27.687949200Z",
     "start_time": "2024-02-16T09:06:26.733046900Z"
    }
   },
   "id": "ff3b3e6ed082c8c8",
   "execution_count": 30
  },
  {
   "cell_type": "code",
   "outputs": [],
   "source": [
    "del person_data, person_data2"
   ],
   "metadata": {
    "collapsed": false,
    "ExecuteTime": {
     "end_time": "2024-02-16T09:27:12.333417900Z",
     "start_time": "2024-02-16T09:27:12.304452Z"
    }
   },
   "id": "1634bcd068f1188b",
   "execution_count": 35
  },
  {
   "cell_type": "code",
   "outputs": [],
   "source": [
    "train_static = pd.read_csv('csv_files/train/train_static_0_0.csv', low_memory=False)\n",
    "definitions = get_feature_definitions(train_static)"
   ],
   "metadata": {
    "collapsed": false,
    "ExecuteTime": {
     "end_time": "2024-02-16T09:30:35.019615500Z",
     "start_time": "2024-02-16T09:30:21.528309700Z"
    }
   },
   "id": "4eddd2b515d16681",
   "execution_count": 41
  },
  {
   "cell_type": "code",
   "outputs": [],
   "source": [
    "train_static1 = pd.read_csv('csv_files/train/train_static_0_1.csv', low_memory=False)\n",
    "definitions = get_feature_definitions(train_static)"
   ],
   "metadata": {
    "collapsed": false,
    "ExecuteTime": {
     "end_time": "2024-02-16T09:30:42.688442300Z",
     "start_time": "2024-02-16T09:30:35.021615600Z"
    }
   },
   "id": "d3aace2c61c555e3",
   "execution_count": 42
  },
  {
   "cell_type": "code",
   "outputs": [
    {
     "data": {
      "text/plain": "set()"
     },
     "execution_count": 45,
     "metadata": {},
     "output_type": "execute_result"
    }
   ],
   "source": [
    "set(train_static1.columns).difference(set(train_static.columns))"
   ],
   "metadata": {
    "collapsed": false,
    "ExecuteTime": {
     "end_time": "2024-02-16T09:31:20.360918700Z",
     "start_time": "2024-02-16T09:31:20.344601100Z"
    }
   },
   "id": "de8066245eab2dfe",
   "execution_count": 45
  },
  {
   "cell_type": "code",
   "outputs": [],
   "source": [
    "train_static_cb = pd.read_csv('csv_files/train/train_static_cb_0.csv', low_memory=False)\n",
    "definitions = get_feature_definitions(train_static_cb)"
   ],
   "metadata": {
    "collapsed": false,
    "ExecuteTime": {
     "end_time": "2024-02-16T09:42:27.518431300Z",
     "start_time": "2024-02-16T09:42:23.892583900Z"
    }
   },
   "id": "464081218aa35d12",
   "execution_count": 47
  },
  {
   "cell_type": "code",
   "outputs": [],
   "source": [
    "del train_static, train_static1, train_static_cb"
   ],
   "metadata": {
    "collapsed": false,
    "ExecuteTime": {
     "end_time": "2024-02-16T09:31:28.594650400Z",
     "start_time": "2024-02-16T09:31:28.495438800Z"
    }
   },
   "id": "a90dbd071e5382b3",
   "execution_count": 46
  },
  {
   "cell_type": "code",
   "outputs": [
    {
     "ename": "NameError",
     "evalue": "name 'train_static_cb' is not defined",
     "output_type": "error",
     "traceback": [
      "\u001B[1;31m---------------------------------------------------------------------------\u001B[0m",
      "\u001B[1;31mNameError\u001B[0m                                 Traceback (most recent call last)",
      "Cell \u001B[1;32mIn[50], line 2\u001B[0m\n\u001B[0;32m      1\u001B[0m train_tax_a1 \u001B[38;5;241m=\u001B[39m pd\u001B[38;5;241m.\u001B[39mread_csv(\u001B[38;5;124m'\u001B[39m\u001B[38;5;124mcsv_files/train/train_tax_registry_a_1.csv\u001B[39m\u001B[38;5;124m'\u001B[39m)\n\u001B[1;32m----> 2\u001B[0m definitions \u001B[38;5;241m=\u001B[39m get_feature_definitions(\u001B[43mtrain_static_cb\u001B[49m)\n",
      "\u001B[1;31mNameError\u001B[0m: name 'train_static_cb' is not defined"
     ]
    }
   ],
   "source": [
    "train_tax_a1 = pd.read_csv('csv_files/train/train_tax_registry_a_1.csv')\n",
    "definitions = get_feature_definitions(train_tax_a1)"
   ],
   "metadata": {
    "collapsed": false,
    "ExecuteTime": {
     "end_time": "2024-02-16T09:44:53.697834Z",
     "start_time": "2024-02-16T09:44:52.629558900Z"
    }
   },
   "id": "1f5f949c0ae0fcaa",
   "execution_count": 50
  },
  {
   "cell_type": "code",
   "outputs": [],
   "source": [
    "train_tax_b1 = pd.read_csv('csv_files/train/train_tax_registry_b_1.csv')\n",
    "definitions = get_feature_definitions(train_tax_b1)"
   ],
   "metadata": {
    "collapsed": false,
    "ExecuteTime": {
     "end_time": "2024-02-16T09:48:00.583066500Z",
     "start_time": "2024-02-16T09:48:00.259838200Z"
    }
   },
   "id": "8fb7a698fddae6e",
   "execution_count": 53
  },
  {
   "cell_type": "code",
   "outputs": [],
   "source": [
    "train_tax_c1 = pd.read_csv('csv_files/train/train_tax_registry_c_1.csv')\n",
    "definitions = get_feature_definitions(train_tax_c1)"
   ],
   "metadata": {
    "collapsed": false,
    "ExecuteTime": {
     "end_time": "2024-02-16T09:48:48.240336200Z",
     "start_time": "2024-02-16T09:48:47.189038400Z"
    }
   },
   "id": "150f50005bb87b17",
   "execution_count": 54
  },
  {
   "cell_type": "code",
   "outputs": [
    {
     "ename": "NameError",
     "evalue": "name 'train_tax_b1' is not defined",
     "output_type": "error",
     "traceback": [
      "\u001B[1;31m---------------------------------------------------------------------------\u001B[0m",
      "\u001B[1;31mNameError\u001B[0m                                 Traceback (most recent call last)",
      "Cell \u001B[1;32mIn[55], line 1\u001B[0m\n\u001B[1;32m----> 1\u001B[0m \u001B[38;5;28;01mdel\u001B[39;00m train_tax_a1, train_tax_b1, train_tax_b1, train_tax_c1\n",
      "\u001B[1;31mNameError\u001B[0m: name 'train_tax_b1' is not defined"
     ]
    }
   ],
   "source": [
    "del train_tax_a1, train_tax_b1, train_tax_c1"
   ],
   "metadata": {
    "collapsed": false,
    "ExecuteTime": {
     "end_time": "2024-02-16T09:52:14.789761600Z",
     "start_time": "2024-02-16T09:52:14.738172600Z"
    }
   },
   "id": "1d268e8dd8f06842",
   "execution_count": 55
  },
  {
   "cell_type": "code",
   "outputs": [],
   "source": [
    "train_debit = pd.read_csv('csv_files/train/train_debitcard_1.csv')\n",
    "definitions = get_feature_definitions(train_debit)"
   ],
   "metadata": {
    "collapsed": false,
    "ExecuteTime": {
     "end_time": "2024-02-16T09:53:28.905194300Z",
     "start_time": "2024-02-16T09:53:28.857959600Z"
    }
   },
   "id": "bda8878da8886f57",
   "execution_count": 58
  },
  {
   "cell_type": "code",
   "outputs": [],
   "source": [
    "train_deposit = pd.read_csv('csv_files/train/train_deposit_1.csv')\n",
    "definitions = get_feature_definitions(train_deposit)"
   ],
   "metadata": {
    "collapsed": false,
    "ExecuteTime": {
     "end_time": "2024-02-16T09:55:42.579501700Z",
     "start_time": "2024-02-16T09:55:42.520974800Z"
    }
   },
   "id": "1ceec7da07978e9a",
   "execution_count": 59
  },
  {
   "cell_type": "code",
   "outputs": [],
   "source": [
    "train_other = pd.read_csv('csv_files/train/train_other_1.csv')\n",
    "definitions = get_feature_definitions(train_other)"
   ],
   "metadata": {
    "collapsed": false,
    "ExecuteTime": {
     "end_time": "2024-02-16T09:57:04.109849500Z",
     "start_time": "2024-02-16T09:57:04.073852400Z"
    }
   },
   "id": "8a50c00d10ef5119",
   "execution_count": 60
  },
  {
   "cell_type": "code",
   "outputs": [],
   "source": [
    "del train_debit, train_deposit, train_other"
   ],
   "metadata": {
    "collapsed": false,
    "ExecuteTime": {
     "end_time": "2024-02-16T09:58:18.233376100Z",
     "start_time": "2024-02-16T09:58:18.219367400Z"
    }
   },
   "id": "6fad875fadad4329",
   "execution_count": 61
  },
  {
   "cell_type": "code",
   "outputs": [
    {
     "name": "stderr",
     "output_type": "stream",
     "text": [
      "C:\\Users\\mek\\AppData\\Local\\Temp\\ipykernel_10460\\1692775828.py:1: DtypeWarning: Columns (27) have mixed types. Specify dtype option on import or set low_memory=False.\n",
      "  train_applprev10 = pd.read_csv('csv_files/train/train_applprev_1_0.csv')\n"
     ]
    }
   ],
   "source": [
    "train_applprev10 = pd.read_csv('csv_files/train/train_applprev_1_0.csv')\n",
    "definitions = get_feature_definitions(train_applprev10)"
   ],
   "metadata": {
    "collapsed": false,
    "ExecuteTime": {
     "end_time": "2024-02-16T09:59:14.456635100Z",
     "start_time": "2024-02-16T09:59:05.616953400Z"
    }
   },
   "id": "744d6531c8b072dc",
   "execution_count": 62
  },
  {
   "cell_type": "code",
   "outputs": [
    {
     "name": "stderr",
     "output_type": "stream",
     "text": [
      "C:\\Users\\mek\\AppData\\Local\\Temp\\ipykernel_10460\\2456037420.py:1: DtypeWarning: Columns (27) have mixed types. Specify dtype option on import or set low_memory=False.\n",
      "  train_applprev11 = pd.read_csv('csv_files/train/train_applprev_1_1.csv')\n"
     ]
    }
   ],
   "source": [
    "train_applprev11 = pd.read_csv('csv_files/train/train_applprev_1_1.csv')\n",
    "definitions = get_feature_definitions(train_applprev11)"
   ],
   "metadata": {
    "collapsed": false,
    "ExecuteTime": {
     "end_time": "2024-02-16T10:02:56.449526300Z",
     "start_time": "2024-02-16T10:02:50.336853900Z"
    }
   },
   "id": "50583c7f511e39b5",
   "execution_count": 63
  },
  {
   "cell_type": "code",
   "outputs": [],
   "source": [
    "del train_applprev10, train_applprev11"
   ],
   "metadata": {
    "collapsed": false,
    "ExecuteTime": {
     "end_time": "2024-02-16T10:05:16.473024600Z",
     "start_time": "2024-02-16T10:05:16.168347Z"
    }
   },
   "id": "35dc53f1aef38994",
   "execution_count": 64
  },
  {
   "cell_type": "code",
   "outputs": [
    {
     "name": "stderr",
     "output_type": "stream",
     "text": [
      "C:\\Users\\mek\\AppData\\Local\\Temp\\ipykernel_12728\\2488295258.py:1: DtypeWarning: Columns (11,12,14,30,44,54) have mixed types. Specify dtype option on import or set low_memory=False.\n",
      "  train_bureau_a10 = pd.read_csv('csv_files/train/train_credit_bureau_a_1_0.csv')\n"
     ]
    }
   ],
   "source": [
    "train_bureau_a10 = pd.read_csv('csv_files/train/train_credit_bureau_a_1_0.csv')\n",
    "definitions = get_feature_definitions(train_bureau_a10)"
   ],
   "metadata": {
    "collapsed": false,
    "ExecuteTime": {
     "end_time": "2024-02-28T12:14:08.095678Z",
     "start_time": "2024-02-28T12:13:56.518522Z"
    }
   },
   "id": "a74c8dde7bf291",
   "execution_count": 5
  },
  {
   "cell_type": "code",
   "outputs": [],
   "source": [
    "del definitions, train_bureau_a10"
   ],
   "metadata": {
    "collapsed": false,
    "ExecuteTime": {
     "end_time": "2024-02-16T10:09:19.479186400Z",
     "start_time": "2024-02-16T10:09:19.151463Z"
    }
   },
   "id": "b0bb26ecb0d460f6",
   "execution_count": 66
  },
  {
   "cell_type": "code",
   "outputs": [],
   "source": [],
   "metadata": {
    "collapsed": false
   },
   "id": "d8ccb76cf7e7ce25"
  }
 ],
 "metadata": {
  "kernelspec": {
   "display_name": "Python 3",
   "language": "python",
   "name": "python3"
  },
  "language_info": {
   "codemirror_mode": {
    "name": "ipython",
    "version": 2
   },
   "file_extension": ".py",
   "mimetype": "text/x-python",
   "name": "python",
   "nbconvert_exporter": "python",
   "pygments_lexer": "ipython2",
   "version": "2.7.6"
  }
 },
 "nbformat": 4,
 "nbformat_minor": 5
}
